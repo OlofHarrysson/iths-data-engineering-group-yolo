{
 "cells": [
  {
   "cell_type": "markdown",
   "metadata": {},
   "source": [
    "# Research on data for presentation"
   ]
  },
  {
   "cell_type": "markdown",
   "metadata": {},
   "source": [
    "### Finding average work count per JSON file in data warehouse"
   ]
  },
  {
   "cell_type": "code",
   "execution_count": 50,
   "metadata": {},
   "outputs": [],
   "source": [
    "import os \n",
    "import json\n",
    "from pathlib import Path\n",
    "\n",
    "# paths to json files, these will be \n",
    "mit_blog = Path(\"/home/sam_glass/iths-data-engineering-group-yolo/data/data_warehouse/mit/articles\")\n",
    "big_data_blog = Path(\"/home/sam_glass/iths-data-engineering-group-yolo/data/data_warehouse/big_data/articles\")\n",
    "\n",
    "\n",
    "def average_words(blog_path):\n",
    "\n",
    "    total_word_count = 0 # variables to store the counts\n",
    "    file_count = 0\n",
    "\n",
    "    # checking is filename has .json\n",
    "    for file_path in blog_path.glob(\"*.json\"):\n",
    "        #print(\"Processing file:\", file_path)\n",
    "        # contructing full path to the Json file\n",
    "            \n",
    "        #read the json file \n",
    "        with open(file_path,\"r\") as json_file:\n",
    "            data = json.load(json_file)\n",
    "\n",
    "        # extract the text from the feature \"blog_text\"\n",
    "        feature_text = data.get(\"blog_text\", \"\")\n",
    "\n",
    "        #split text into words using whitespace as a deliminater\n",
    "        words = feature_text.split()\n",
    "\n",
    "        #count the words\n",
    "        word_count = len(words)\n",
    "\n",
    "        # add word count to the total \n",
    "        total_word_count += word_count\n",
    "\n",
    "        # increment file count\n",
    "        file_count += 1\n",
    "\n",
    "    # calculate average\n",
    "    if file_count > 0:\n",
    "        average_word_count = total_word_count / file_count\n",
    "    else:\n",
    "        average_word_count = 0\n",
    "\n",
    "    rounded_average = round(average_word_count)\n",
    "\n",
    "    print(f\"Total word count in {file_count} files, {total_word_count}\")\n",
    "    print(f\"Average word count: {average_word_count}\")\n",
    "    print(f\"Rounded average word count:{rounded_average}\")"
   ]
  },
  {
   "cell_type": "markdown",
   "metadata": {},
   "source": [
    "## average token (word) count per article MIT blog (input)"
   ]
  },
  {
   "cell_type": "code",
   "execution_count": 51,
   "metadata": {},
   "outputs": [
    {
     "name": "stdout",
     "output_type": "stream",
     "text": [
      "Total word count in 53 files, 54986\n",
      "Average word count: 1037.4716981132076\n",
      "Rounded average word count:1037\n"
     ]
    }
   ],
   "source": [
    "average_words(mit_blog)"
   ]
  },
  {
   "cell_type": "markdown",
   "metadata": {},
   "source": [
    "## average token (word) count per article Big Data blog (input)"
   ]
  },
  {
   "cell_type": "code",
   "execution_count": 52,
   "metadata": {},
   "outputs": [
    {
     "name": "stdout",
     "output_type": "stream",
     "text": [
      "Total word count in 50 files, 45933\n",
      "Average word count: 918.66\n",
      "Rounded average word count:919\n"
     ]
    }
   ],
   "source": [
    "average_words(big_data_blog)"
   ]
  },
  {
   "cell_type": "markdown",
   "metadata": {},
   "source": [
    "## Cost of input and output tokens"
   ]
  },
  {
   "cell_type": "code",
   "execution_count": 95,
   "metadata": {},
   "outputs": [],
   "source": [
    "import pandas as pd\n",
    "\n",
    "blog_df = pd.DataFrame()\n",
    "\n",
    "blog_df[\"input_average_tokens\"] = [1000, 1000, 1000, 1000, 1000]\n",
    "blog_df[\"input_cost ($)\"] = blog_df[\"input_average_tokens\"] * (0.0015/1000)\n",
    "blog_df[\"output_average_tokens\"] = [300, 400 ,500 , 600, 700 ]\n",
    "blog_df[\"output_cost ($)\"] = blog_df[\"output_average_tokens\"] * (0.002/1000)\n",
    "blog_df[\"Total_cost_one\"] = blog_df[\"input_cost ($)\"] + blog_df[\"output_cost ($)\"]\n",
    "blog_df[\"Yearly_cost\"] = blog_df[\"Total_cost_one\"] * 365\n",
    "blog_df[\"Yearly_25_day\"] = blog_df[\"Yearly_cost\"] *25\n",
    "blog_df[\"Yearly_50_day\"] = blog_df[\"Yearly_cost\"] *50\n",
    "blog_df[\"Yearly_100_day\"] = blog_df[\"Yearly_cost\"] *100\n"
   ]
  },
  {
   "cell_type": "code",
   "execution_count": 96,
   "metadata": {},
   "outputs": [
    {
     "data": {
      "text/html": [
       "<div>\n",
       "<style scoped>\n",
       "    .dataframe tbody tr th:only-of-type {\n",
       "        vertical-align: middle;\n",
       "    }\n",
       "\n",
       "    .dataframe tbody tr th {\n",
       "        vertical-align: top;\n",
       "    }\n",
       "\n",
       "    .dataframe thead th {\n",
       "        text-align: right;\n",
       "    }\n",
       "</style>\n",
       "<table border=\"1\" class=\"dataframe\">\n",
       "  <thead>\n",
       "    <tr style=\"text-align: right;\">\n",
       "      <th></th>\n",
       "      <th>input_average_tokens</th>\n",
       "      <th>input_cost ($)</th>\n",
       "      <th>output_average_tokens</th>\n",
       "      <th>output_cost ($)</th>\n",
       "      <th>Total_cost_one</th>\n",
       "      <th>Yearly_cost</th>\n",
       "      <th>Yearly_25_day</th>\n",
       "      <th>Yearly_50_day</th>\n",
       "      <th>Yearly_100_day</th>\n",
       "    </tr>\n",
       "  </thead>\n",
       "  <tbody>\n",
       "    <tr>\n",
       "      <th>0</th>\n",
       "      <td>1000</td>\n",
       "      <td>0.0015</td>\n",
       "      <td>300</td>\n",
       "      <td>0.0006</td>\n",
       "      <td>0.0021</td>\n",
       "      <td>0.7665</td>\n",
       "      <td>19.1625</td>\n",
       "      <td>38.325</td>\n",
       "      <td>76.65</td>\n",
       "    </tr>\n",
       "    <tr>\n",
       "      <th>1</th>\n",
       "      <td>1000</td>\n",
       "      <td>0.0015</td>\n",
       "      <td>400</td>\n",
       "      <td>0.0008</td>\n",
       "      <td>0.0023</td>\n",
       "      <td>0.8395</td>\n",
       "      <td>20.9875</td>\n",
       "      <td>41.975</td>\n",
       "      <td>83.95</td>\n",
       "    </tr>\n",
       "    <tr>\n",
       "      <th>2</th>\n",
       "      <td>1000</td>\n",
       "      <td>0.0015</td>\n",
       "      <td>500</td>\n",
       "      <td>0.0010</td>\n",
       "      <td>0.0025</td>\n",
       "      <td>0.9125</td>\n",
       "      <td>22.8125</td>\n",
       "      <td>45.625</td>\n",
       "      <td>91.25</td>\n",
       "    </tr>\n",
       "    <tr>\n",
       "      <th>3</th>\n",
       "      <td>1000</td>\n",
       "      <td>0.0015</td>\n",
       "      <td>600</td>\n",
       "      <td>0.0012</td>\n",
       "      <td>0.0027</td>\n",
       "      <td>0.9855</td>\n",
       "      <td>24.6375</td>\n",
       "      <td>49.275</td>\n",
       "      <td>98.55</td>\n",
       "    </tr>\n",
       "    <tr>\n",
       "      <th>4</th>\n",
       "      <td>1000</td>\n",
       "      <td>0.0015</td>\n",
       "      <td>700</td>\n",
       "      <td>0.0014</td>\n",
       "      <td>0.0029</td>\n",
       "      <td>1.0585</td>\n",
       "      <td>26.4625</td>\n",
       "      <td>52.925</td>\n",
       "      <td>105.85</td>\n",
       "    </tr>\n",
       "  </tbody>\n",
       "</table>\n",
       "</div>"
      ],
      "text/plain": [
       "   input_average_tokens  input_cost ($)  output_average_tokens  \\\n",
       "0                  1000          0.0015                    300   \n",
       "1                  1000          0.0015                    400   \n",
       "2                  1000          0.0015                    500   \n",
       "3                  1000          0.0015                    600   \n",
       "4                  1000          0.0015                    700   \n",
       "\n",
       "   output_cost ($)  Total_cost_one  Yearly_cost  Yearly_25_day  Yearly_50_day  \\\n",
       "0           0.0006          0.0021       0.7665        19.1625         38.325   \n",
       "1           0.0008          0.0023       0.8395        20.9875         41.975   \n",
       "2           0.0010          0.0025       0.9125        22.8125         45.625   \n",
       "3           0.0012          0.0027       0.9855        24.6375         49.275   \n",
       "4           0.0014          0.0029       1.0585        26.4625         52.925   \n",
       "\n",
       "   Yearly_100_day  \n",
       "0           76.65  \n",
       "1           83.95  \n",
       "2           91.25  \n",
       "3           98.55  \n",
       "4          105.85  "
      ]
     },
     "execution_count": 96,
     "metadata": {},
     "output_type": "execute_result"
    }
   ],
   "source": [
    "blog_df"
   ]
  },
  {
   "cell_type": "code",
   "execution_count": null,
   "metadata": {},
   "outputs": [],
   "source": [
    "df_monthly = pd.DataFrame()\n",
    "\n"
   ]
  },
  {
   "cell_type": "markdown",
   "metadata": {},
   "source": [
    "\n"
   ]
  },
  {
   "cell_type": "code",
   "execution_count": null,
   "metadata": {},
   "outputs": [],
   "source": [
    "import matplotlib as plt\n",
    "\n",
    "fig, ax = plt.subplots(1,)\n",
    "\n",
    "\n",
    "\n"
   ]
  }
 ],
 "metadata": {
  "kernelspec": {
   "display_name": "venv",
   "language": "python",
   "name": "python3"
  },
  "language_info": {
   "codemirror_mode": {
    "name": "ipython",
    "version": 3
   },
   "file_extension": ".py",
   "mimetype": "text/x-python",
   "name": "python",
   "nbconvert_exporter": "python",
   "pygments_lexer": "ipython3",
   "version": "3.10.12"
  },
  "orig_nbformat": 4
 },
 "nbformat": 4,
 "nbformat_minor": 2
}
